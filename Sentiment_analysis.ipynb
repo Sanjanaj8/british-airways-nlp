{
 "cells": [
  {
   "cell_type": "markdown",
   "id": "3e0d5d28-7034-434b-818b-56cc7d1a1c23",
   "metadata": {},
   "source": [
    "# Import Libraries"
   ]
  },
  {
   "cell_type": "code",
   "execution_count": 1,
   "id": "5826fc81-0038-47b4-88e3-dd35dd0a2745",
   "metadata": {},
   "outputs": [],
   "source": [
    "# For Data Cleaning\n",
    "import pandas as pd\n",
    "import numpy as np\n",
    "# For Data visualization\n",
    "import plotly.express as px\n",
    "import matplotlib.pyplot as plt\n",
    "import seaborn as sns\n",
    "\n",
    "# For visualizing the missing values in the data"
   ]
  },
  {
   "cell_type": "markdown",
   "id": "9caae4b1-be73-45b0-a2af-053a885f4365",
   "metadata": {
    "jp-MarkdownHeadingCollapsed": true,
    "tags": []
   },
   "source": [
    "# Import Data"
   ]
  },
  {
   "cell_type": "code",
   "execution_count": 2,
   "id": "fe7be0af-016b-46ed-9da0-c8012a3c1a28",
   "metadata": {},
   "outputs": [],
   "source": [
    "df = pd.read_csv(r\"C:\\Users\\admin\\Desktop\\AI ML\\sentiment analysis\\British_Airway_Review.csv\")"
   ]
  },
  {
   "cell_type": "code",
   "execution_count": 3,
   "id": "55ee0c41-23ed-44d7-9363-f7cbd64779ec",
   "metadata": {},
   "outputs": [
    {
     "data": {
      "text/html": [
       "<div>\n",
       "<style scoped>\n",
       "    .dataframe tbody tr th:only-of-type {\n",
       "        vertical-align: middle;\n",
       "    }\n",
       "\n",
       "    .dataframe tbody tr th {\n",
       "        vertical-align: top;\n",
       "    }\n",
       "\n",
       "    .dataframe thead th {\n",
       "        text-align: right;\n",
       "    }\n",
       "</style>\n",
       "<table border=\"1\" class=\"dataframe\">\n",
       "  <thead>\n",
       "    <tr style=\"text-align: right;\">\n",
       "      <th></th>\n",
       "      <th>reviews</th>\n",
       "      <th>date</th>\n",
       "      <th>country</th>\n",
       "      <th>seat_type</th>\n",
       "      <th>recommended</th>\n",
       "      <th>stars</th>\n",
       "      <th>route</th>\n",
       "      <th>type_of_traveller</th>\n",
       "    </tr>\n",
       "  </thead>\n",
       "  <tbody>\n",
       "    <tr>\n",
       "      <th>0</th>\n",
       "      <td>✅ Trip Verified |  I had the most fantastic BA...</td>\n",
       "      <td>1st August 2023</td>\n",
       "      <td>Hong Kong</td>\n",
       "      <td>Business Class</td>\n",
       "      <td>yes</td>\n",
       "      <td>5</td>\n",
       "      <td>Heathrow to Las Vegas</td>\n",
       "      <td>Family Leisure</td>\n",
       "    </tr>\n",
       "    <tr>\n",
       "      <th>1</th>\n",
       "      <td>✅ Trip Verified |  Couldn’t book in online. Ar...</td>\n",
       "      <td>31st July 2023</td>\n",
       "      <td>United Kingdom</td>\n",
       "      <td>Economy Class</td>\n",
       "      <td>no</td>\n",
       "      <td>3</td>\n",
       "      <td>Rome to Heathrow</td>\n",
       "      <td>Solo Leisure</td>\n",
       "    </tr>\n",
       "  </tbody>\n",
       "</table>\n",
       "</div>"
      ],
      "text/plain": [
       "                                             reviews             date  \\\n",
       "0  ✅ Trip Verified |  I had the most fantastic BA...  1st August 2023   \n",
       "1  ✅ Trip Verified |  Couldn’t book in online. Ar...   31st July 2023   \n",
       "\n",
       "          country       seat_type recommended  stars                  route  \\\n",
       "0       Hong Kong  Business Class         yes      5  Heathrow to Las Vegas   \n",
       "1  United Kingdom   Economy Class          no      3       Rome to Heathrow   \n",
       "\n",
       "  type_of_traveller  \n",
       "0    Family Leisure  \n",
       "1      Solo Leisure  "
      ]
     },
     "execution_count": 3,
     "metadata": {},
     "output_type": "execute_result"
    }
   ],
   "source": [
    "df.head(2)"
   ]
  },
  {
   "cell_type": "code",
   "execution_count": 4,
   "id": "8d5328fd-f03a-428a-a4d1-8826b39d7aba",
   "metadata": {},
   "outputs": [
    {
     "data": {
      "text/plain": [
       "(2500, 8)"
      ]
     },
     "execution_count": 4,
     "metadata": {},
     "output_type": "execute_result"
    }
   ],
   "source": [
    "df.shape"
   ]
  },
  {
   "cell_type": "markdown",
   "id": "baa8ed8b-f63d-4a4e-baaa-87c0b2431661",
   "metadata": {
    "tags": []
   },
   "source": [
    "# Data Preprocessing"
   ]
  },
  {
   "cell_type": "code",
   "execution_count": 5,
   "id": "5256ae5d-7e92-4126-9c96-85eac45f9090",
   "metadata": {},
   "outputs": [
    {
     "data": {
      "text/plain": [
       "reviews              object\n",
       "date                 object\n",
       "country              object\n",
       "seat_type            object\n",
       "recommended          object\n",
       "stars                 int64\n",
       "route                object\n",
       "type_of_traveller    object\n",
       "dtype: object"
      ]
     },
     "execution_count": 5,
     "metadata": {},
     "output_type": "execute_result"
    }
   ],
   "source": [
    "df.dtypes"
   ]
  },
  {
   "cell_type": "code",
   "execution_count": 6,
   "id": "56016988-7166-402d-ba77-03be42527a67",
   "metadata": {},
   "outputs": [],
   "source": [
    "df['date'] = pd.to_datetime(df['date'])"
   ]
  },
  {
   "cell_type": "code",
   "execution_count": 7,
   "id": "b3867c80-b9f9-4218-8cf1-55fefdda417c",
   "metadata": {},
   "outputs": [],
   "source": [
    "df['year'] = df['date'].dt.year"
   ]
  },
  {
   "cell_type": "code",
   "execution_count": 8,
   "id": "6e918521-a633-43c2-8d8c-b6f22a392ccb",
   "metadata": {},
   "outputs": [
    {
     "data": {
      "text/plain": [
       "2500"
      ]
     },
     "execution_count": 8,
     "metadata": {},
     "output_type": "execute_result"
    }
   ],
   "source": [
    "df['reviews'].str.startswith('✅ Trip Verified ').count()"
   ]
  },
  {
   "cell_type": "code",
   "execution_count": 9,
   "id": "ac645b0e-790e-4233-b957-564bffff513e",
   "metadata": {},
   "outputs": [],
   "source": [
    "df.drop(columns='date',\n",
    "       inplace = True)"
   ]
  },
  {
   "cell_type": "code",
   "execution_count": 10,
   "id": "78afe67e-38c5-4c95-ad92-d64457fad471",
   "metadata": {},
   "outputs": [
    {
     "data": {
      "text/html": [
       "<div>\n",
       "<style scoped>\n",
       "    .dataframe tbody tr th:only-of-type {\n",
       "        vertical-align: middle;\n",
       "    }\n",
       "\n",
       "    .dataframe tbody tr th {\n",
       "        vertical-align: top;\n",
       "    }\n",
       "\n",
       "    .dataframe thead th {\n",
       "        text-align: right;\n",
       "    }\n",
       "</style>\n",
       "<table border=\"1\" class=\"dataframe\">\n",
       "  <thead>\n",
       "    <tr style=\"text-align: right;\">\n",
       "      <th></th>\n",
       "      <th>reviews</th>\n",
       "      <th>country</th>\n",
       "      <th>seat_type</th>\n",
       "      <th>recommended</th>\n",
       "      <th>stars</th>\n",
       "      <th>route</th>\n",
       "      <th>type_of_traveller</th>\n",
       "      <th>year</th>\n",
       "    </tr>\n",
       "  </thead>\n",
       "  <tbody>\n",
       "    <tr>\n",
       "      <th>0</th>\n",
       "      <td>✅ Trip Verified |  I had the most fantastic BA...</td>\n",
       "      <td>Hong Kong</td>\n",
       "      <td>Business Class</td>\n",
       "      <td>yes</td>\n",
       "      <td>5</td>\n",
       "      <td>Heathrow to Las Vegas</td>\n",
       "      <td>Family Leisure</td>\n",
       "      <td>2023</td>\n",
       "    </tr>\n",
       "    <tr>\n",
       "      <th>1</th>\n",
       "      <td>✅ Trip Verified |  Couldn’t book in online. Ar...</td>\n",
       "      <td>United Kingdom</td>\n",
       "      <td>Economy Class</td>\n",
       "      <td>no</td>\n",
       "      <td>3</td>\n",
       "      <td>Rome to Heathrow</td>\n",
       "      <td>Solo Leisure</td>\n",
       "      <td>2023</td>\n",
       "    </tr>\n",
       "    <tr>\n",
       "      <th>2</th>\n",
       "      <td>✅ Trip Verified | London Heathrow to Mumbai in...</td>\n",
       "      <td>Iceland</td>\n",
       "      <td>Business Class</td>\n",
       "      <td>yes</td>\n",
       "      <td>3</td>\n",
       "      <td>Gatwick to Venice</td>\n",
       "      <td>Solo Leisure</td>\n",
       "      <td>2023</td>\n",
       "    </tr>\n",
       "    <tr>\n",
       "      <th>3</th>\n",
       "      <td>✅ Trip Verified | Keflavík, Iceland to London ...</td>\n",
       "      <td>Iceland</td>\n",
       "      <td>Business Class</td>\n",
       "      <td>yes</td>\n",
       "      <td>5</td>\n",
       "      <td>London to Luanda</td>\n",
       "      <td>Couple Leisure</td>\n",
       "      <td>2023</td>\n",
       "    </tr>\n",
       "    <tr>\n",
       "      <th>4</th>\n",
       "      <td>✅ Trip Verified | Terrible Experience with Bri...</td>\n",
       "      <td>Canada</td>\n",
       "      <td>Economy Class</td>\n",
       "      <td>no</td>\n",
       "      <td>5</td>\n",
       "      <td>Denver to Heathrow</td>\n",
       "      <td>Family Leisure</td>\n",
       "      <td>2023</td>\n",
       "    </tr>\n",
       "  </tbody>\n",
       "</table>\n",
       "</div>"
      ],
      "text/plain": [
       "                                             reviews         country  \\\n",
       "0  ✅ Trip Verified |  I had the most fantastic BA...       Hong Kong   \n",
       "1  ✅ Trip Verified |  Couldn’t book in online. Ar...  United Kingdom   \n",
       "2  ✅ Trip Verified | London Heathrow to Mumbai in...         Iceland   \n",
       "3  ✅ Trip Verified | Keflavík, Iceland to London ...         Iceland   \n",
       "4  ✅ Trip Verified | Terrible Experience with Bri...          Canada   \n",
       "\n",
       "        seat_type recommended  stars                  route type_of_traveller  \\\n",
       "0  Business Class         yes      5  Heathrow to Las Vegas    Family Leisure   \n",
       "1   Economy Class          no      3       Rome to Heathrow      Solo Leisure   \n",
       "2  Business Class         yes      3      Gatwick to Venice      Solo Leisure   \n",
       "3  Business Class         yes      5       London to Luanda    Couple Leisure   \n",
       "4   Economy Class          no      5     Denver to Heathrow    Family Leisure   \n",
       "\n",
       "   year  \n",
       "0  2023  \n",
       "1  2023  \n",
       "2  2023  \n",
       "3  2023  \n",
       "4  2023  "
      ]
     },
     "execution_count": 10,
     "metadata": {},
     "output_type": "execute_result"
    }
   ],
   "source": [
    "df.head()"
   ]
  },
  {
   "cell_type": "code",
   "execution_count": 11,
   "id": "30b92c07-7b78-423f-baf7-59a82a4830d5",
   "metadata": {},
   "outputs": [],
   "source": [
    "# Creating an id column for easier analysis\n",
    "df['id'] = [i for i in range(len(df))]"
   ]
  },
  {
   "cell_type": "code",
   "execution_count": 12,
   "id": "7fa280c0-ce6c-4b84-b464-f664ade1555a",
   "metadata": {},
   "outputs": [],
   "source": [
    "df = df[['id','reviews','year','country','seat_type','recommended','stars','route','type_of_traveller']].copy()"
   ]
  },
  {
   "cell_type": "code",
   "execution_count": 13,
   "id": "e8ebf930-bb04-4921-b5df-3be4143cd09f",
   "metadata": {},
   "outputs": [
    {
     "data": {
      "text/plain": [
       "False"
      ]
     },
     "execution_count": 13,
     "metadata": {},
     "output_type": "execute_result"
    }
   ],
   "source": [
    "df.duplicated().any()"
   ]
  },
  {
   "cell_type": "code",
   "execution_count": 14,
   "id": "7fa28cf0-dc67-41f4-bdc3-f911eee3240a",
   "metadata": {},
   "outputs": [
    {
     "data": {
      "text/html": [
       "<div>\n",
       "<style scoped>\n",
       "    .dataframe tbody tr th:only-of-type {\n",
       "        vertical-align: middle;\n",
       "    }\n",
       "\n",
       "    .dataframe tbody tr th {\n",
       "        vertical-align: top;\n",
       "    }\n",
       "\n",
       "    .dataframe thead th {\n",
       "        text-align: right;\n",
       "    }\n",
       "</style>\n",
       "<table border=\"1\" class=\"dataframe\">\n",
       "  <thead>\n",
       "    <tr style=\"text-align: right;\">\n",
       "      <th></th>\n",
       "      <th>id</th>\n",
       "      <th>reviews</th>\n",
       "      <th>year</th>\n",
       "      <th>country</th>\n",
       "      <th>seat_type</th>\n",
       "      <th>recommended</th>\n",
       "      <th>stars</th>\n",
       "      <th>route</th>\n",
       "      <th>type_of_traveller</th>\n",
       "    </tr>\n",
       "  </thead>\n",
       "  <tbody>\n",
       "    <tr>\n",
       "      <th>484</th>\n",
       "      <td>484</td>\n",
       "      <td>✅ Trip Verified |  Due to the coronavirus situ...</td>\n",
       "      <td>2020</td>\n",
       "      <td>United Kingdom</td>\n",
       "      <td>Premium Economy</td>\n",
       "      <td>no</td>\n",
       "      <td>5</td>\n",
       "      <td>Denver to Heathrow</td>\n",
       "      <td>Family Leisure</td>\n",
       "    </tr>\n",
       "  </tbody>\n",
       "</table>\n",
       "</div>"
      ],
      "text/plain": [
       "      id                                            reviews  year  \\\n",
       "484  484  ✅ Trip Verified |  Due to the coronavirus situ...  2020   \n",
       "\n",
       "            country        seat_type recommended  stars               route  \\\n",
       "484  United Kingdom  Premium Economy          no      5  Denver to Heathrow   \n",
       "\n",
       "    type_of_traveller  \n",
       "484    Family Leisure  "
      ]
     },
     "execution_count": 14,
     "metadata": {},
     "output_type": "execute_result"
    }
   ],
   "source": [
    "df.sample()"
   ]
  },
  {
   "cell_type": "code",
   "execution_count": 15,
   "id": "49a101db-331e-40ab-879c-ccab1b641cbc",
   "metadata": {},
   "outputs": [
    {
     "data": {
      "text/plain": [
       "array([2023, 2022, 2021, 2020, 2019, 2018, 2017, 2016, 2015], dtype=int64)"
      ]
     },
     "execution_count": 15,
     "metadata": {},
     "output_type": "execute_result"
    }
   ],
   "source": [
    "df.year.unique()"
   ]
  },
  {
   "cell_type": "code",
   "execution_count": 16,
   "id": "f1a5ec41-363d-45fc-a322-c6f503fa1c36",
   "metadata": {},
   "outputs": [
    {
     "data": {
      "text/plain": [
       "array([5, 3, 1, 9, 7], dtype=int64)"
      ]
     },
     "execution_count": 16,
     "metadata": {},
     "output_type": "execute_result"
    }
   ],
   "source": [
    "df.stars.unique()"
   ]
  },
  {
   "cell_type": "code",
   "execution_count": 17,
   "id": "b044a358-7889-4eff-94f6-443da5b3d159",
   "metadata": {},
   "outputs": [
    {
     "data": {
      "text/plain": [
       "array(['Hong Kong', 'United Kingdom', 'Iceland', 'Canada', 'Qatar',\n",
       "       'Spain', 'Germany', 'United States', 'South Africa', 'Greece',\n",
       "       'Italy', 'Senegal', 'United Arab Emirates', 'Romania', 'Australia',\n",
       "       'Cyprus', 'Chile', 'Sweden', 'Ireland', 'Netherlands', 'Austria',\n",
       "       'France', 'India', 'Belgium', 'New Zealand', 'Czech Republic',\n",
       "       'Malaysia', 'Singapore', 'Ghana', 'Switzerland', 'Bermuda',\n",
       "       'Botswana', 'Brazil', 'Panama', 'Nigeria', 'Russian Federation',\n",
       "       'Philippines', 'Bulgaria', 'Poland', 'Thailand', 'Argentina',\n",
       "       'Mexico', 'Denmark', 'Saint Kitts and Nevis', 'Vietnam', 'Norway',\n",
       "       'Jordan', 'Japan', 'Taiwan', 'China', 'Slovakia', 'Kuwait',\n",
       "       'Israel', 'South Korea', 'Saudi Arabia', 'Hungary', 'Portugal',\n",
       "       'Cayman Islands', 'Costa Rica', 'Egypt', 'Laos', 'Turkey',\n",
       "       'Indonesia', 'Bahrain', 'Dominican Republic', 'Luxembourg',\n",
       "       'Finland'], dtype=object)"
      ]
     },
     "execution_count": 17,
     "metadata": {},
     "output_type": "execute_result"
    }
   ],
   "source": [
    "df.country.unique()"
   ]
  },
  {
   "cell_type": "code",
   "execution_count": 18,
   "id": "44d2c3aa-aa98-4e50-b769-941ca735fd02",
   "metadata": {},
   "outputs": [
    {
     "data": {
      "text/plain": [
       "array(['Business Class', 'Economy Class', 'Premium Economy',\n",
       "       'First Class'], dtype=object)"
      ]
     },
     "execution_count": 18,
     "metadata": {},
     "output_type": "execute_result"
    }
   ],
   "source": [
    "df.seat_type.unique()"
   ]
  },
  {
   "cell_type": "code",
   "execution_count": 19,
   "id": "d94c8e53-7752-4928-b54a-7bb76c603b32",
   "metadata": {},
   "outputs": [
    {
     "data": {
      "text/plain": [
       "array(['yes', 'no'], dtype=object)"
      ]
     },
     "execution_count": 19,
     "metadata": {},
     "output_type": "execute_result"
    }
   ],
   "source": [
    "df.recommended.unique()"
   ]
  },
  {
   "cell_type": "code",
   "execution_count": 20,
   "id": "c943750e-48a2-4946-b92e-377d66cfee35",
   "metadata": {},
   "outputs": [
    {
     "data": {
      "text/plain": [
       "array(['Heathrow to Las Vegas', 'Rome to Heathrow', 'Gatwick to Venice',\n",
       "       'London to Luanda', 'Denver to Heathrow', 'BKK to LHR',\n",
       "       'London to Tampa', 'London to Sydney', 'LHR to CPT', 'BLR to LHR'],\n",
       "      dtype=object)"
      ]
     },
     "execution_count": 20,
     "metadata": {},
     "output_type": "execute_result"
    }
   ],
   "source": [
    "df.route.unique()"
   ]
  },
  {
   "cell_type": "code",
   "execution_count": 21,
   "id": "e51ab93e-eb66-4f89-b182-6630b78d1a8b",
   "metadata": {},
   "outputs": [
    {
     "data": {
      "text/plain": [
       "array(['Family Leisure', 'Solo Leisure', 'Couple Leisure', 'Business'],\n",
       "      dtype=object)"
      ]
     },
     "execution_count": 21,
     "metadata": {},
     "output_type": "execute_result"
    }
   ],
   "source": [
    "df.type_of_traveller.unique()"
   ]
  },
  {
   "cell_type": "code",
   "execution_count": 22,
   "id": "0c34029e-bc01-4d59-9df9-98e633db5e92",
   "metadata": {},
   "outputs": [
    {
     "data": {
      "text/html": [
       "<div>\n",
       "<style scoped>\n",
       "    .dataframe tbody tr th:only-of-type {\n",
       "        vertical-align: middle;\n",
       "    }\n",
       "\n",
       "    .dataframe tbody tr th {\n",
       "        vertical-align: top;\n",
       "    }\n",
       "\n",
       "    .dataframe thead th {\n",
       "        text-align: right;\n",
       "    }\n",
       "</style>\n",
       "<table border=\"1\" class=\"dataframe\">\n",
       "  <thead>\n",
       "    <tr style=\"text-align: right;\">\n",
       "      <th></th>\n",
       "      <th>id</th>\n",
       "      <th>reviews</th>\n",
       "      <th>year</th>\n",
       "      <th>country</th>\n",
       "      <th>seat_type</th>\n",
       "      <th>recommended</th>\n",
       "      <th>stars</th>\n",
       "      <th>route</th>\n",
       "      <th>type_of_traveller</th>\n",
       "    </tr>\n",
       "  </thead>\n",
       "  <tbody>\n",
       "    <tr>\n",
       "      <th>0</th>\n",
       "      <td>0</td>\n",
       "      <td>✅ Trip Verified |  I had the most fantastic BA...</td>\n",
       "      <td>2023</td>\n",
       "      <td>Hong Kong</td>\n",
       "      <td>Business Class</td>\n",
       "      <td>yes</td>\n",
       "      <td>5</td>\n",
       "      <td>Heathrow to Las Vegas</td>\n",
       "      <td>Family Leisure</td>\n",
       "    </tr>\n",
       "    <tr>\n",
       "      <th>1</th>\n",
       "      <td>1</td>\n",
       "      <td>✅ Trip Verified |  Couldn’t book in online. Ar...</td>\n",
       "      <td>2023</td>\n",
       "      <td>United Kingdom</td>\n",
       "      <td>Economy Class</td>\n",
       "      <td>no</td>\n",
       "      <td>3</td>\n",
       "      <td>Rome to Heathrow</td>\n",
       "      <td>Solo Leisure</td>\n",
       "    </tr>\n",
       "    <tr>\n",
       "      <th>2</th>\n",
       "      <td>2</td>\n",
       "      <td>✅ Trip Verified | London Heathrow to Mumbai in...</td>\n",
       "      <td>2023</td>\n",
       "      <td>Iceland</td>\n",
       "      <td>Business Class</td>\n",
       "      <td>yes</td>\n",
       "      <td>3</td>\n",
       "      <td>Gatwick to Venice</td>\n",
       "      <td>Solo Leisure</td>\n",
       "    </tr>\n",
       "    <tr>\n",
       "      <th>3</th>\n",
       "      <td>3</td>\n",
       "      <td>✅ Trip Verified | Keflavík, Iceland to London ...</td>\n",
       "      <td>2023</td>\n",
       "      <td>Iceland</td>\n",
       "      <td>Business Class</td>\n",
       "      <td>yes</td>\n",
       "      <td>5</td>\n",
       "      <td>London to Luanda</td>\n",
       "      <td>Couple Leisure</td>\n",
       "    </tr>\n",
       "    <tr>\n",
       "      <th>4</th>\n",
       "      <td>4</td>\n",
       "      <td>✅ Trip Verified | Terrible Experience with Bri...</td>\n",
       "      <td>2023</td>\n",
       "      <td>Canada</td>\n",
       "      <td>Economy Class</td>\n",
       "      <td>no</td>\n",
       "      <td>5</td>\n",
       "      <td>Denver to Heathrow</td>\n",
       "      <td>Family Leisure</td>\n",
       "    </tr>\n",
       "  </tbody>\n",
       "</table>\n",
       "</div>"
      ],
      "text/plain": [
       "   id                                            reviews  year  \\\n",
       "0   0  ✅ Trip Verified |  I had the most fantastic BA...  2023   \n",
       "1   1  ✅ Trip Verified |  Couldn’t book in online. Ar...  2023   \n",
       "2   2  ✅ Trip Verified | London Heathrow to Mumbai in...  2023   \n",
       "3   3  ✅ Trip Verified | Keflavík, Iceland to London ...  2023   \n",
       "4   4  ✅ Trip Verified | Terrible Experience with Bri...  2023   \n",
       "\n",
       "          country       seat_type recommended  stars                  route  \\\n",
       "0       Hong Kong  Business Class         yes      5  Heathrow to Las Vegas   \n",
       "1  United Kingdom   Economy Class          no      3       Rome to Heathrow   \n",
       "2         Iceland  Business Class         yes      3      Gatwick to Venice   \n",
       "3         Iceland  Business Class         yes      5       London to Luanda   \n",
       "4          Canada   Economy Class          no      5     Denver to Heathrow   \n",
       "\n",
       "  type_of_traveller  \n",
       "0    Family Leisure  \n",
       "1      Solo Leisure  \n",
       "2      Solo Leisure  \n",
       "3    Couple Leisure  \n",
       "4    Family Leisure  "
      ]
     },
     "execution_count": 22,
     "metadata": {},
     "output_type": "execute_result"
    }
   ],
   "source": [
    "df.head()"
   ]
  },
  {
   "cell_type": "code",
   "execution_count": 23,
   "id": "f2a5f0f4-e281-499e-a2c0-2f970129d812",
   "metadata": {},
   "outputs": [
    {
     "data": {
      "text/plain": [
       "'✅ Trip Verified |  Couldn’t book in online. Arrived at check in to find we had been bumped off due to overselling. No BA staff available. Very helpful Gatwick staff got us a bus to LHR and a flight to Toulouse. Had knock in effect on our car booking and sharing as the rest of family had been able yo board original flight. Airlines should be legally stopped from selling seats twice.'"
      ]
     },
     "execution_count": 23,
     "metadata": {},
     "output_type": "execute_result"
    }
   ],
   "source": [
    "example = df['reviews'].iloc[1]\n",
    "example"
   ]
  },
  {
   "cell_type": "markdown",
   "id": "69d99b37",
   "metadata": {
    "tags": []
   },
   "source": [
    "# TextBlob"
   ]
  },
  {
   "cell_type": "markdown",
   "id": "c70fba72",
   "metadata": {},
   "source": [
    "By providing an input sentence, the TextBlob’s sentiment property returns a named tuple with polarity and subjectivity scores. The polarity score ranges from -1.0 to 1.0, where -1.0 indicates a negative sentiment and +1.0 a positive sentiment. \n",
    "The subjectivity ranges from 0.0 to 1.0 where 0.0 is an objective statement and 1 is a subjective statement.\n",
    "Subjective sentences refers to personal opinion, judgement or emotion, whereas objective sentences refers to factual information."
   ]
  },
  {
   "cell_type": "code",
   "execution_count": 24,
   "id": "f3d86ecb-ce39-4b58-a7b5-a84eae0a5efb",
   "metadata": {},
   "outputs": [],
   "source": [
    "from textblob import Word, TextBlob"
   ]
  },
  {
   "cell_type": "code",
   "execution_count": 25,
   "id": "72c559d5-9164-4445-ae65-e2c5a6700710",
   "metadata": {},
   "outputs": [
    {
     "data": {
      "text/plain": [
       "Sentiment(polarity=0.25833333333333336, subjectivity=0.4416666666666667)"
      ]
     },
     "execution_count": 25,
     "metadata": {},
     "output_type": "execute_result"
    }
   ],
   "source": [
    "TextBlob(example).sentiment"
   ]
  },
  {
   "cell_type": "code",
   "execution_count": 26,
   "id": "0afae60c-5e7d-4d85-ac10-a46021fb20b3",
   "metadata": {},
   "outputs": [
    {
     "data": {
      "text/plain": [
       "0       ✅ Trip Verified |  I had the most fantastic BA...\n",
       "1       ✅ Trip Verified |  Couldn’t book in online. Ar...\n",
       "2       ✅ Trip Verified | London Heathrow to Mumbai in...\n",
       "3       ✅ Trip Verified | Keflavík, Iceland to London ...\n",
       "4       ✅ Trip Verified | Terrible Experience with Bri...\n",
       "                              ...                        \n",
       "2495    Roundtrip with British Airways from Bangkok to...\n",
       "2496    Awful customer service. My wife and I have flo...\n",
       "2497    I travelled from London to Sydney via Singapor...\n",
       "2498    British Airways have just moved Cape Town flig...\n",
       "2499    Bengaluru to Heathrow. My first long haul flig...\n",
       "Name: reviews, Length: 2500, dtype: object"
      ]
     },
     "execution_count": 26,
     "metadata": {},
     "output_type": "execute_result"
    }
   ],
   "source": [
    "df.reviews.astype(str)"
   ]
  },
  {
   "cell_type": "code",
   "execution_count": 27,
   "id": "0e52908b",
   "metadata": {},
   "outputs": [],
   "source": [
    "df['polarity'] = df['reviews'].apply(lambda x: TextBlob(x).sentiment[0])\n",
    "df['subjectivity'] = df['reviews'].apply(lambda x: TextBlob(x).sentiment[1])"
   ]
  },
  {
   "cell_type": "markdown",
   "id": "0004fbb6-f6a6-48c8-98fa-7cf5e1dc75ea",
   "metadata": {},
   "source": [
    "Next step is to analyze if the review is Positive, Negative or Neutral. This would be done using the [Polarity] column.\n",
    "\n",
    "- Negative = [Polarity] < 0\n",
    "- Neutral = [Polarity] = 0\n",
    "- Positive = [Polarity] > 0"
   ]
  },
  {
   "cell_type": "code",
   "execution_count": 28,
   "id": "688ed64b-08c5-489b-89be-392a4d367c85",
   "metadata": {},
   "outputs": [],
   "source": [
    "def sent_scored(r):\n",
    "    if r < 0:\n",
    "        return 'Negative'\n",
    "    if r == 0:\n",
    "        return 'Neutral'\n",
    "    else:\n",
    "        return 'Positive'\n",
    "    \n",
    "df['scored'] = df['polarity'].apply(sent_scored)"
   ]
  },
  {
   "cell_type": "code",
   "execution_count": 29,
   "id": "0e53ebf3-cc3b-4657-be4d-cb854793118a",
   "metadata": {},
   "outputs": [
    {
     "data": {
      "text/html": [
       "<div>\n",
       "<style scoped>\n",
       "    .dataframe tbody tr th:only-of-type {\n",
       "        vertical-align: middle;\n",
       "    }\n",
       "\n",
       "    .dataframe tbody tr th {\n",
       "        vertical-align: top;\n",
       "    }\n",
       "\n",
       "    .dataframe thead th {\n",
       "        text-align: right;\n",
       "    }\n",
       "</style>\n",
       "<table border=\"1\" class=\"dataframe\">\n",
       "  <thead>\n",
       "    <tr style=\"text-align: right;\">\n",
       "      <th></th>\n",
       "      <th>id</th>\n",
       "      <th>reviews</th>\n",
       "      <th>year</th>\n",
       "      <th>country</th>\n",
       "      <th>seat_type</th>\n",
       "      <th>recommended</th>\n",
       "      <th>stars</th>\n",
       "      <th>route</th>\n",
       "      <th>type_of_traveller</th>\n",
       "      <th>polarity</th>\n",
       "      <th>subjectivity</th>\n",
       "      <th>scored</th>\n",
       "    </tr>\n",
       "  </thead>\n",
       "  <tbody>\n",
       "    <tr>\n",
       "      <th>0</th>\n",
       "      <td>0</td>\n",
       "      <td>✅ Trip Verified |  I had the most fantastic BA...</td>\n",
       "      <td>2023</td>\n",
       "      <td>Hong Kong</td>\n",
       "      <td>Business Class</td>\n",
       "      <td>yes</td>\n",
       "      <td>5</td>\n",
       "      <td>Heathrow to Las Vegas</td>\n",
       "      <td>Family Leisure</td>\n",
       "      <td>0.383610</td>\n",
       "      <td>0.562995</td>\n",
       "      <td>Positive</td>\n",
       "    </tr>\n",
       "    <tr>\n",
       "      <th>1</th>\n",
       "      <td>1</td>\n",
       "      <td>✅ Trip Verified |  Couldn’t book in online. Ar...</td>\n",
       "      <td>2023</td>\n",
       "      <td>United Kingdom</td>\n",
       "      <td>Economy Class</td>\n",
       "      <td>no</td>\n",
       "      <td>3</td>\n",
       "      <td>Rome to Heathrow</td>\n",
       "      <td>Solo Leisure</td>\n",
       "      <td>0.258333</td>\n",
       "      <td>0.441667</td>\n",
       "      <td>Positive</td>\n",
       "    </tr>\n",
       "    <tr>\n",
       "      <th>2</th>\n",
       "      <td>2</td>\n",
       "      <td>✅ Trip Verified | London Heathrow to Mumbai in...</td>\n",
       "      <td>2023</td>\n",
       "      <td>Iceland</td>\n",
       "      <td>Business Class</td>\n",
       "      <td>yes</td>\n",
       "      <td>3</td>\n",
       "      <td>Gatwick to Venice</td>\n",
       "      <td>Solo Leisure</td>\n",
       "      <td>0.317250</td>\n",
       "      <td>0.604906</td>\n",
       "      <td>Positive</td>\n",
       "    </tr>\n",
       "  </tbody>\n",
       "</table>\n",
       "</div>"
      ],
      "text/plain": [
       "   id                                            reviews  year  \\\n",
       "0   0  ✅ Trip Verified |  I had the most fantastic BA...  2023   \n",
       "1   1  ✅ Trip Verified |  Couldn’t book in online. Ar...  2023   \n",
       "2   2  ✅ Trip Verified | London Heathrow to Mumbai in...  2023   \n",
       "\n",
       "          country       seat_type recommended  stars                  route  \\\n",
       "0       Hong Kong  Business Class         yes      5  Heathrow to Las Vegas   \n",
       "1  United Kingdom   Economy Class          no      3       Rome to Heathrow   \n",
       "2         Iceland  Business Class         yes      3      Gatwick to Venice   \n",
       "\n",
       "  type_of_traveller  polarity  subjectivity    scored  \n",
       "0    Family Leisure  0.383610      0.562995  Positive  \n",
       "1      Solo Leisure  0.258333      0.441667  Positive  \n",
       "2      Solo Leisure  0.317250      0.604906  Positive  "
      ]
     },
     "execution_count": 29,
     "metadata": {},
     "output_type": "execute_result"
    }
   ],
   "source": [
    "df.head(3)"
   ]
  },
  {
   "cell_type": "markdown",
   "id": "2185d4c2-9895-429f-a0b9-5307541871f8",
   "metadata": {
    "tags": []
   },
   "source": [
    "# Data Visualization"
   ]
  },
  {
   "cell_type": "markdown",
   "id": "224f791c-38aa-404a-9d5b-cb4c5aa81993",
   "metadata": {
    "jp-MarkdownHeadingCollapsed": true,
    "tags": []
   },
   "source": [
    "## 1. Top 10 countries having most reviews"
   ]
  },
  {
   "cell_type": "code",
   "execution_count": 30,
   "id": "5b9af3c3-8fa5-41b7-bff5-48aff788965b",
   "metadata": {},
   "outputs": [
    {
     "data": {
      "text/html": [
       "<div>\n",
       "<style scoped>\n",
       "    .dataframe tbody tr th:only-of-type {\n",
       "        vertical-align: middle;\n",
       "    }\n",
       "\n",
       "    .dataframe tbody tr th {\n",
       "        vertical-align: top;\n",
       "    }\n",
       "\n",
       "    .dataframe thead th {\n",
       "        text-align: right;\n",
       "    }\n",
       "</style>\n",
       "<table border=\"1\" class=\"dataframe\">\n",
       "  <thead>\n",
       "    <tr style=\"text-align: right;\">\n",
       "      <th></th>\n",
       "      <th>country</th>\n",
       "      <th>id</th>\n",
       "    </tr>\n",
       "  </thead>\n",
       "  <tbody>\n",
       "    <tr>\n",
       "      <th>64</th>\n",
       "      <td>United Kingdom</td>\n",
       "      <td>2022202</td>\n",
       "    </tr>\n",
       "    <tr>\n",
       "      <th>65</th>\n",
       "      <td>United States</td>\n",
       "      <td>307688</td>\n",
       "    </tr>\n",
       "    <tr>\n",
       "      <th>9</th>\n",
       "      <td>Canada</td>\n",
       "      <td>98805</td>\n",
       "    </tr>\n",
       "    <tr>\n",
       "      <th>1</th>\n",
       "      <td>Australia</td>\n",
       "      <td>90544</td>\n",
       "    </tr>\n",
       "    <tr>\n",
       "      <th>21</th>\n",
       "      <td>Germany</td>\n",
       "      <td>72540</td>\n",
       "    </tr>\n",
       "    <tr>\n",
       "      <th>59</th>\n",
       "      <td>Switzerland</td>\n",
       "      <td>39081</td>\n",
       "    </tr>\n",
       "    <tr>\n",
       "      <th>55</th>\n",
       "      <td>South Africa</td>\n",
       "      <td>28352</td>\n",
       "    </tr>\n",
       "    <tr>\n",
       "      <th>12</th>\n",
       "      <td>China</td>\n",
       "      <td>28310</td>\n",
       "    </tr>\n",
       "    <tr>\n",
       "      <th>39</th>\n",
       "      <td>Netherlands</td>\n",
       "      <td>28117</td>\n",
       "    </tr>\n",
       "    <tr>\n",
       "      <th>20</th>\n",
       "      <td>France</td>\n",
       "      <td>27969</td>\n",
       "    </tr>\n",
       "  </tbody>\n",
       "</table>\n",
       "</div>"
      ],
      "text/plain": [
       "           country       id\n",
       "64  United Kingdom  2022202\n",
       "65   United States   307688\n",
       "9           Canada    98805\n",
       "1        Australia    90544\n",
       "21         Germany    72540\n",
       "59     Switzerland    39081\n",
       "55    South Africa    28352\n",
       "12           China    28310\n",
       "39     Netherlands    28117\n",
       "20          France    27969"
      ]
     },
     "execution_count": 30,
     "metadata": {},
     "output_type": "execute_result"
    }
   ],
   "source": [
    "country_count = df.groupby('country')['id'].sum().reset_index().sort_values('id', ascending = False)[:10]\n",
    "country_count"
   ]
  },
  {
   "cell_type": "code",
   "execution_count": 77,
   "id": "8363611f-2ea6-4fea-8552-a5f52b98673b",
   "metadata": {},
   "outputs": [
    {
     "data": {
      "image/png": "[encoded data removed]",
      "text/plain": [
       "<Figure size 1200x600 with 1 Axes>"
      ]
     },
     "metadata": {},
     "output_type": "display_data"
    }
   ],
   "source": [
    "sns.set_style(\"dark\")\n",
    "plt.figure(figsize=(12,6))\n",
    "country_bar = sns.barplot(data = country_count, x = 'id', y = 'country', orient = 'h', palette = \"mako\")"
   ]
  },
  {
   "cell_type": "markdown",
   "id": "e1773364-b425-4d92-93de-2077ea64798b",
   "metadata": {
    "jp-MarkdownHeadingCollapsed": true,
    "tags": []
   },
   "source": [
    "## 2. Number of reviews per year"
   ]
  },
  {
   "cell_type": "code",
   "execution_count": 32,
   "id": "0e9f1083-4dcb-4a24-af07-bf30a0691f26",
   "metadata": {},
   "outputs": [
    {
     "data": {
      "text/html": [
       "<div>\n",
       "<style scoped>\n",
       "    .dataframe tbody tr th:only-of-type {\n",
       "        vertical-align: middle;\n",
       "    }\n",
       "\n",
       "    .dataframe tbody tr th {\n",
       "        vertical-align: top;\n",
       "    }\n",
       "\n",
       "    .dataframe thead th {\n",
       "        text-align: right;\n",
       "    }\n",
       "</style>\n",
       "<table border=\"1\" class=\"dataframe\">\n",
       "  <thead>\n",
       "    <tr style=\"text-align: right;\">\n",
       "      <th></th>\n",
       "      <th>year</th>\n",
       "      <th>id</th>\n",
       "    </tr>\n",
       "  </thead>\n",
       "  <tbody>\n",
       "    <tr>\n",
       "      <th>0</th>\n",
       "      <td>2015</td>\n",
       "      <td>256935</td>\n",
       "    </tr>\n",
       "    <tr>\n",
       "      <th>1</th>\n",
       "      <td>2016</td>\n",
       "      <td>1202415</td>\n",
       "    </tr>\n",
       "    <tr>\n",
       "      <th>2</th>\n",
       "      <td>2017</td>\n",
       "      <td>880022</td>\n",
       "    </tr>\n",
       "    <tr>\n",
       "      <th>3</th>\n",
       "      <td>2018</td>\n",
       "      <td>353322</td>\n",
       "    </tr>\n",
       "    <tr>\n",
       "      <th>4</th>\n",
       "      <td>2019</td>\n",
       "      <td>267178</td>\n",
       "    </tr>\n",
       "    <tr>\n",
       "      <th>5</th>\n",
       "      <td>2020</td>\n",
       "      <td>54132</td>\n",
       "    </tr>\n",
       "    <tr>\n",
       "      <th>6</th>\n",
       "      <td>2021</td>\n",
       "      <td>36975</td>\n",
       "    </tr>\n",
       "    <tr>\n",
       "      <th>7</th>\n",
       "      <td>2022</td>\n",
       "      <td>58575</td>\n",
       "    </tr>\n",
       "    <tr>\n",
       "      <th>8</th>\n",
       "      <td>2023</td>\n",
       "      <td>14196</td>\n",
       "    </tr>\n",
       "  </tbody>\n",
       "</table>\n",
       "</div>"
      ],
      "text/plain": [
       "   year       id\n",
       "0  2015   256935\n",
       "1  2016  1202415\n",
       "2  2017   880022\n",
       "3  2018   353322\n",
       "4  2019   267178\n",
       "5  2020    54132\n",
       "6  2021    36975\n",
       "7  2022    58575\n",
       "8  2023    14196"
      ]
     },
     "execution_count": 32,
     "metadata": {},
     "output_type": "execute_result"
    }
   ],
   "source": [
    "year_id = df.groupby('year')['id'].sum().reset_index()\n",
    "year_id"
   ]
  },
  {
   "cell_type": "code",
   "execution_count": 75,
   "id": "5b738841-c603-4515-8361-fc3e4d4cc533",
   "metadata": {},
   "outputs": [
    {
     "data": {
      "image/png": "[encoded data removed]",
      "text/plain": [
       "<Figure size 1200x600 with 1 Axes>"
      ]
     },
     "metadata": {},
     "output_type": "display_data"
    }
   ],
   "source": [
    "sns.set_style(\"dark\")\n",
    "plt.figure(figsize=(12,6))\n",
    "year_line = sns.lineplot(data = year_id, x = 'year', y = 'id')"
   ]
  },
  {
   "cell_type": "markdown",
   "id": "8d9e2aa2-728f-436c-b4ee-eece4267c379",
   "metadata": {
    "tags": []
   },
   "source": [
    "## 3. Types of travellers and Seats distribution"
   ]
  },
  {
   "cell_type": "code",
   "execution_count": 34,
   "id": "b88e85ae-f726-4da8-9ad1-d0ddef5244d7",
   "metadata": {},
   "outputs": [
    {
     "data": {
      "text/html": [
       "<div>\n",
       "<style scoped>\n",
       "    .dataframe tbody tr th:only-of-type {\n",
       "        vertical-align: middle;\n",
       "    }\n",
       "\n",
       "    .dataframe tbody tr th {\n",
       "        vertical-align: top;\n",
       "    }\n",
       "\n",
       "    .dataframe thead th {\n",
       "        text-align: right;\n",
       "    }\n",
       "</style>\n",
       "<table border=\"1\" class=\"dataframe\">\n",
       "  <thead>\n",
       "    <tr style=\"text-align: right;\">\n",
       "      <th></th>\n",
       "      <th>type_of_traveller</th>\n",
       "      <th>id</th>\n",
       "    </tr>\n",
       "  </thead>\n",
       "  <tbody>\n",
       "    <tr>\n",
       "      <th>0</th>\n",
       "      <td>Business</td>\n",
       "      <td>626000</td>\n",
       "    </tr>\n",
       "    <tr>\n",
       "      <th>1</th>\n",
       "      <td>Couple Leisure</td>\n",
       "      <td>1251000</td>\n",
       "    </tr>\n",
       "    <tr>\n",
       "      <th>2</th>\n",
       "      <td>Family Leisure</td>\n",
       "      <td>623500</td>\n",
       "    </tr>\n",
       "    <tr>\n",
       "      <th>3</th>\n",
       "      <td>Solo Leisure</td>\n",
       "      <td>623250</td>\n",
       "    </tr>\n",
       "  </tbody>\n",
       "</table>\n",
       "</div>"
      ],
      "text/plain": [
       "  type_of_traveller       id\n",
       "0          Business   626000\n",
       "1    Couple Leisure  1251000\n",
       "2    Family Leisure   623500\n",
       "3      Solo Leisure   623250"
      ]
     },
     "execution_count": 34,
     "metadata": {},
     "output_type": "execute_result"
    }
   ],
   "source": [
    "traveller = df.groupby('type_of_traveller')['id'].sum().reset_index()\n",
    "traveller"
   ]
  },
  {
   "cell_type": "code",
   "execution_count": 35,
   "id": "cb1155dc-8de4-408c-b120-49024d1a9597",
   "metadata": {},
   "outputs": [
    {
     "data": {
      "text/html": [
       "<div>\n",
       "<style scoped>\n",
       "    .dataframe tbody tr th:only-of-type {\n",
       "        vertical-align: middle;\n",
       "    }\n",
       "\n",
       "    .dataframe tbody tr th {\n",
       "        vertical-align: top;\n",
       "    }\n",
       "\n",
       "    .dataframe thead th {\n",
       "        text-align: right;\n",
       "    }\n",
       "</style>\n",
       "<table border=\"1\" class=\"dataframe\">\n",
       "  <thead>\n",
       "    <tr style=\"text-align: right;\">\n",
       "      <th></th>\n",
       "      <th>seat_type</th>\n",
       "      <th>id</th>\n",
       "    </tr>\n",
       "  </thead>\n",
       "  <tbody>\n",
       "    <tr>\n",
       "      <th>0</th>\n",
       "      <td>Business Class</td>\n",
       "      <td>904224</td>\n",
       "    </tr>\n",
       "    <tr>\n",
       "      <th>1</th>\n",
       "      <td>Economy Class</td>\n",
       "      <td>1671650</td>\n",
       "    </tr>\n",
       "    <tr>\n",
       "      <th>2</th>\n",
       "      <td>First Class</td>\n",
       "      <td>214938</td>\n",
       "    </tr>\n",
       "    <tr>\n",
       "      <th>3</th>\n",
       "      <td>Premium Economy</td>\n",
       "      <td>332938</td>\n",
       "    </tr>\n",
       "  </tbody>\n",
       "</table>\n",
       "</div>"
      ],
      "text/plain": [
       "         seat_type       id\n",
       "0   Business Class   904224\n",
       "1    Economy Class  1671650\n",
       "2      First Class   214938\n",
       "3  Premium Economy   332938"
      ]
     },
     "execution_count": 35,
     "metadata": {},
     "output_type": "execute_result"
    }
   ],
   "source": [
    "seat = df.groupby('seat_type')['id'].sum().reset_index()\n",
    "seat"
   ]
  },
  {
   "cell_type": "code",
   "execution_count": 72,
   "id": "d8215f85-f389-4c26-8fa2-dd892fca7aff",
   "metadata": {},
   "outputs": [
    {
     "data": {
      "image/png": "[encoded data removed]",
      "text/plain": [
       "<Figure size 1500x1000 with 2 Axes>"
      ]
     },
     "metadata": {},
     "output_type": "display_data"
    }
   ],
   "source": [
    "fig, (ax1,ax2) = plt.subplots(1,2, figsize = (15,10))\n",
    "color2 = sns.color_palette('pastel')\n",
    "ax1.pie(data = traveller, x = 'id', labels = 'type_of_traveller', startangle=90, colors = color2, \n",
    "        autopct = \"%1.1f%%\", pctdistance = 0.5,labeldistance = 1.1)\n",
    "ax1.set_title(\"Distribution of the types of Travellers\")\n",
    "\n",
    "color3 = sns.color_palette(\"muted\")\n",
    "ax2.pie(data = seat, x = 'id', labels = 'seat_type', startangle=90,\n",
    "        colors = color3, autopct = \"%1.1f%%\")\n",
    "ax2.set_title(\"Distribution of the Seat types\")\n",
    "\n",
    "plt.show()"
   ]
  },
  {
   "cell_type": "markdown",
   "id": "5d237ca3-e1c0-4c74-812d-adba64961d01",
   "metadata": {
    "jp-MarkdownHeadingCollapsed": true,
    "tags": []
   },
   "source": [
    "## 4. Distribution of the Recommendation of the British Airways"
   ]
  },
  {
   "cell_type": "code",
   "execution_count": 37,
   "id": "01fde40b-8345-40f7-bf36-a50270c73c04",
   "metadata": {},
   "outputs": [
    {
     "data": {
      "text/html": [
       "<div>\n",
       "<style scoped>\n",
       "    .dataframe tbody tr th:only-of-type {\n",
       "        vertical-align: middle;\n",
       "    }\n",
       "\n",
       "    .dataframe tbody tr th {\n",
       "        vertical-align: top;\n",
       "    }\n",
       "\n",
       "    .dataframe thead th {\n",
       "        text-align: right;\n",
       "    }\n",
       "</style>\n",
       "<table border=\"1\" class=\"dataframe\">\n",
       "  <thead>\n",
       "    <tr style=\"text-align: right;\">\n",
       "      <th></th>\n",
       "      <th>recommended</th>\n",
       "      <th>id</th>\n",
       "    </tr>\n",
       "  </thead>\n",
       "  <tbody>\n",
       "    <tr>\n",
       "      <th>0</th>\n",
       "      <td>no</td>\n",
       "      <td>1949197</td>\n",
       "    </tr>\n",
       "    <tr>\n",
       "      <th>1</th>\n",
       "      <td>yes</td>\n",
       "      <td>1174553</td>\n",
       "    </tr>\n",
       "  </tbody>\n",
       "</table>\n",
       "</div>"
      ],
      "text/plain": [
       "  recommended       id\n",
       "0          no  1949197\n",
       "1         yes  1174553"
      ]
     },
     "execution_count": 37,
     "metadata": {},
     "output_type": "execute_result"
    }
   ],
   "source": [
    "recom = df.groupby('recommended')['id'].sum().reset_index()\n",
    "recom"
   ]
  },
  {
   "cell_type": "code",
   "execution_count": 73,
   "id": "e7a3ddd6-9c9e-4130-9ce2-774c9d34375c",
   "metadata": {},
   "outputs": [
    {
     "data": {
      "text/plain": [
       "Text(0.5, 1.0, 'Distribution of the Recommendation of the British Airways')"
      ]
     },
     "execution_count": 73,
     "metadata": {},
     "output_type": "execute_result"
    },
    {
     "data": {
      "image/png": "[encoded data removed]",
      "text/plain": [
       "<Figure size 640x480 with 1 Axes>"
      ]
     },
     "metadata": {},
     "output_type": "display_data"
    }
   ],
   "source": [
    "color4 = sns.color_palette(\"Paired\")\n",
    "plt.pie(data = recom, x = 'id', labels = 'recommended', startangle=90, autopct = \"%1.1f%%\", colors = color4)\n",
    "plt.title(\"Distribution of the Recommendation of the British Airways\") "
   ]
  },
  {
   "cell_type": "markdown",
   "id": "9011c914-dc7d-474a-8566-9046c7dc35a4",
   "metadata": {
    "jp-MarkdownHeadingCollapsed": true,
    "tags": []
   },
   "source": [
    "## 5. Route Count distribution"
   ]
  },
  {
   "cell_type": "code",
   "execution_count": 78,
   "id": "d556780d-e4c9-43ff-80c9-a0e4140d1a24",
   "metadata": {},
   "outputs": [
    {
     "data": {
      "text/html": [
       "<style type=\"text/css\">\n",
       "#T_46abb_row0_col1 {\n",
       "  background-color: #58a1cf;\n",
       "  color: #f1f1f1;\n",
       "}\n",
       "#T_46abb_row1_col1 {\n",
       "  background-color: #08306b;\n",
       "  color: #f1f1f1;\n",
       "}\n",
       "#T_46abb_row2_col1 {\n",
       "  background-color: #82bbdb;\n",
       "  color: #000000;\n",
       "}\n",
       "#T_46abb_row3_col1 {\n",
       "  background-color: #ccdff1;\n",
       "  color: #000000;\n",
       "}\n",
       "#T_46abb_row4_col1 {\n",
       "  background-color: #f7fbff;\n",
       "  color: #000000;\n",
       "}\n",
       "#T_46abb_row5_col1 {\n",
       "  background-color: #084d96;\n",
       "  color: #f1f1f1;\n",
       "}\n",
       "#T_46abb_row6_col1 {\n",
       "  background-color: #abd0e6;\n",
       "  color: #000000;\n",
       "}\n",
       "#T_46abb_row7_col1 {\n",
       "  background-color: #1b69af;\n",
       "  color: #f1f1f1;\n",
       "}\n",
       "#T_46abb_row8_col1 {\n",
       "  background-color: #3787c0;\n",
       "  color: #f1f1f1;\n",
       "}\n",
       "#T_46abb_row9_col1 {\n",
       "  background-color: #e1edf8;\n",
       "  color: #000000;\n",
       "}\n",
       "</style>\n",
       "<table id=\"T_46abb\">\n",
       "  <thead>\n",
       "    <tr>\n",
       "      <th class=\"blank level0\" >&nbsp;</th>\n",
       "      <th id=\"T_46abb_level0_col0\" class=\"col_heading level0 col0\" >route</th>\n",
       "      <th id=\"T_46abb_level0_col1\" class=\"col_heading level0 col1\" >id</th>\n",
       "    </tr>\n",
       "  </thead>\n",
       "  <tbody>\n",
       "    <tr>\n",
       "      <th id=\"T_46abb_level0_row0\" class=\"row_heading level0 row0\" >0</th>\n",
       "      <td id=\"T_46abb_row0_col0\" class=\"data row0 col0\" >BKK to LHR</td>\n",
       "      <td id=\"T_46abb_row0_col1\" class=\"data row0 col1\" >312500</td>\n",
       "    </tr>\n",
       "    <tr>\n",
       "      <th id=\"T_46abb_level0_row1\" class=\"row_heading level0 row1\" >1</th>\n",
       "      <td id=\"T_46abb_row1_col0\" class=\"data row1 col0\" >BLR to LHR</td>\n",
       "      <td id=\"T_46abb_row1_col1\" class=\"data row1 col1\" >313500</td>\n",
       "    </tr>\n",
       "    <tr>\n",
       "      <th id=\"T_46abb_level0_row2\" class=\"row_heading level0 row2\" >2</th>\n",
       "      <td id=\"T_46abb_row2_col0\" class=\"data row2 col0\" >Denver to Heathrow</td>\n",
       "      <td id=\"T_46abb_row2_col1\" class=\"data row2 col1\" >312250</td>\n",
       "    </tr>\n",
       "    <tr>\n",
       "      <th id=\"T_46abb_level0_row3\" class=\"row_heading level0 row3\" >3</th>\n",
       "      <td id=\"T_46abb_row3_col0\" class=\"data row3 col0\" >Gatwick to Venice</td>\n",
       "      <td id=\"T_46abb_row3_col1\" class=\"data row3 col1\" >311750</td>\n",
       "    </tr>\n",
       "    <tr>\n",
       "      <th id=\"T_46abb_level0_row4\" class=\"row_heading level0 row4\" >4</th>\n",
       "      <td id=\"T_46abb_row4_col0\" class=\"data row4 col0\" >Heathrow to Las Vegas</td>\n",
       "      <td id=\"T_46abb_row4_col1\" class=\"data row4 col1\" >311250</td>\n",
       "    </tr>\n",
       "    <tr>\n",
       "      <th id=\"T_46abb_level0_row5\" class=\"row_heading level0 row5\" >5</th>\n",
       "      <td id=\"T_46abb_row5_col0\" class=\"data row5 col0\" >LHR to CPT</td>\n",
       "      <td id=\"T_46abb_row5_col1\" class=\"data row5 col1\" >313250</td>\n",
       "    </tr>\n",
       "    <tr>\n",
       "      <th id=\"T_46abb_level0_row6\" class=\"row_heading level0 row6\" >6</th>\n",
       "      <td id=\"T_46abb_row6_col0\" class=\"data row6 col0\" >London to Luanda</td>\n",
       "      <td id=\"T_46abb_row6_col1\" class=\"data row6 col1\" >312000</td>\n",
       "    </tr>\n",
       "    <tr>\n",
       "      <th id=\"T_46abb_level0_row7\" class=\"row_heading level0 row7\" >7</th>\n",
       "      <td id=\"T_46abb_row7_col0\" class=\"data row7 col0\" >London to Sydney</td>\n",
       "      <td id=\"T_46abb_row7_col1\" class=\"data row7 col1\" >313000</td>\n",
       "    </tr>\n",
       "    <tr>\n",
       "      <th id=\"T_46abb_level0_row8\" class=\"row_heading level0 row8\" >8</th>\n",
       "      <td id=\"T_46abb_row8_col0\" class=\"data row8 col0\" >London to Tampa</td>\n",
       "      <td id=\"T_46abb_row8_col1\" class=\"data row8 col1\" >312750</td>\n",
       "    </tr>\n",
       "    <tr>\n",
       "      <th id=\"T_46abb_level0_row9\" class=\"row_heading level0 row9\" >9</th>\n",
       "      <td id=\"T_46abb_row9_col0\" class=\"data row9 col0\" >Rome to Heathrow</td>\n",
       "      <td id=\"T_46abb_row9_col1\" class=\"data row9 col1\" >311500</td>\n",
       "    </tr>\n",
       "  </tbody>\n",
       "</table>\n"
      ],
      "text/plain": [
       "<pandas.io.formats.style.Styler at 0x13c1c90cf40>"
      ]
     },
     "execution_count": 78,
     "metadata": {},
     "output_type": "execute_result"
    }
   ],
   "source": [
    "route_count = df.groupby('route')['id'].sum().reset_index()\n",
    "route_count.style.background_gradient(cmap='Blues')"
   ]
  },
  {
   "cell_type": "markdown",
   "id": "fc13422e-18f6-43f4-994e-f325ae555d0b",
   "metadata": {
    "jp-MarkdownHeadingCollapsed": true,
    "tags": []
   },
   "source": [
    "## 6. Rating distribution"
   ]
  },
  {
   "cell_type": "code",
   "execution_count": 79,
   "id": "ab6c887f-c5e4-4b9e-baf5-53c0c191d718",
   "metadata": {},
   "outputs": [
    {
     "data": {
      "text/html": [
       "<div>\n",
       "<style scoped>\n",
       "    .dataframe tbody tr th:only-of-type {\n",
       "        vertical-align: middle;\n",
       "    }\n",
       "\n",
       "    .dataframe tbody tr th {\n",
       "        vertical-align: top;\n",
       "    }\n",
       "\n",
       "    .dataframe thead th {\n",
       "        text-align: right;\n",
       "    }\n",
       "</style>\n",
       "<table border=\"1\" class=\"dataframe\">\n",
       "  <thead>\n",
       "    <tr style=\"text-align: right;\">\n",
       "      <th></th>\n",
       "      <th>stars</th>\n",
       "      <th>id</th>\n",
       "    </tr>\n",
       "  </thead>\n",
       "  <tbody>\n",
       "    <tr>\n",
       "      <th>0</th>\n",
       "      <td>1</td>\n",
       "      <td>283750</td>\n",
       "    </tr>\n",
       "    <tr>\n",
       "      <th>1</th>\n",
       "      <td>3</td>\n",
       "      <td>1421250</td>\n",
       "    </tr>\n",
       "    <tr>\n",
       "      <th>2</th>\n",
       "      <td>5</td>\n",
       "      <td>850569</td>\n",
       "    </tr>\n",
       "    <tr>\n",
       "      <th>3</th>\n",
       "      <td>7</td>\n",
       "      <td>284204</td>\n",
       "    </tr>\n",
       "    <tr>\n",
       "      <th>4</th>\n",
       "      <td>9</td>\n",
       "      <td>283977</td>\n",
       "    </tr>\n",
       "  </tbody>\n",
       "</table>\n",
       "</div>"
      ],
      "text/plain": [
       "   stars       id\n",
       "0      1   283750\n",
       "1      3  1421250\n",
       "2      5   850569\n",
       "3      7   284204\n",
       "4      9   283977"
      ]
     },
     "execution_count": 79,
     "metadata": {},
     "output_type": "execute_result"
    }
   ],
   "source": [
    "star_count = df.groupby('stars')['id'].sum().reset_index()\n",
    "star_count"
   ]
  },
  {
   "cell_type": "code",
   "execution_count": 82,
   "id": "e97a8db0-a648-4405-b099-766bb1a889d4",
   "metadata": {},
   "outputs": [
    {
     "data": {
      "image/png": "[encoded data removed]",
      "text/plain": [
       "<Figure size 1200x600 with 1 Axes>"
      ]
     },
     "metadata": {},
     "output_type": "display_data"
    }
   ],
   "source": [
    "sns.set_style(\"whitegrid\")\n",
    "plt.figure(figsize=(12,6))\n",
    "sns.barplot(data = star_count, x = 'stars', y = 'id', palette = \"YlOrBr\")\n",
    "for i, count in enumerate(star_count['id']):\n",
    "    plt.text(i, count, str(count), ha='center', va='bottom', fontsize=8)"
   ]
  },
  {
   "cell_type": "markdown",
   "id": "096aa044-abeb-41f9-9235-9692d3e928a2",
   "metadata": {
    "jp-MarkdownHeadingCollapsed": true,
    "tags": []
   },
   "source": [
    "## 7. Recommendation of the airlines distribution by type of travellers and seat types "
   ]
  },
  {
   "cell_type": "code",
   "execution_count": 101,
   "id": "a826b93f-37a3-4446-9ad4-ca7666535025",
   "metadata": {},
   "outputs": [
    {
     "data": {
      "text/plain": [
       "Text(0.5, 1.0, 'Distribution of recommendations by seat type')"
      ]
     },
     "execution_count": 101,
     "metadata": {},
     "output_type": "execute_result"
    },
    {
     "data": {
      "image/png": "[encoded data removed]",
      "text/plain": [
       "<Figure size 1200x600 with 2 Axes>"
      ]
     },
     "metadata": {},
     "output_type": "display_data"
    }
   ],
   "source": [
    "fig, (ax1, ax2) = plt.subplots(1, 2, figsize=(12,6))\n",
    "sns.countplot(x = df['type_of_traveller'] , hue = df['recommended'], ax = ax1, palette = 'viridis')\n",
    "ax1.set_title(\"Distribution of recommendations by types of travellers\")\n",
    "sns.countplot(x = df['seat_type'] , hue = df['recommended'], ax = ax2, palette = 'viridis')\n",
    "ax2.set_title(\"Distribution of recommendations by seat type\")"
   ]
  },
  {
   "cell_type": "markdown",
   "id": "42e55221-28dc-49b1-8dc5-1502353d5c83",
   "metadata": {
    "jp-MarkdownHeadingCollapsed": true,
    "tags": []
   },
   "source": [
    "## 8. Sentiment Analysis"
   ]
  },
  {
   "cell_type": "code",
   "execution_count": 54,
   "id": "36ecc55f-a13c-4b29-ad83-6f107bb4a911",
   "metadata": {},
   "outputs": [
    {
     "data": {
      "text/html": [
       "<div>\n",
       "<style scoped>\n",
       "    .dataframe tbody tr th:only-of-type {\n",
       "        vertical-align: middle;\n",
       "    }\n",
       "\n",
       "    .dataframe tbody tr th {\n",
       "        vertical-align: top;\n",
       "    }\n",
       "\n",
       "    .dataframe thead th {\n",
       "        text-align: right;\n",
       "    }\n",
       "</style>\n",
       "<table border=\"1\" class=\"dataframe\">\n",
       "  <thead>\n",
       "    <tr style=\"text-align: right;\">\n",
       "      <th></th>\n",
       "      <th>scored</th>\n",
       "      <th>id</th>\n",
       "    </tr>\n",
       "  </thead>\n",
       "  <tbody>\n",
       "    <tr>\n",
       "      <th>0</th>\n",
       "      <td>Negative</td>\n",
       "      <td>793.0</td>\n",
       "    </tr>\n",
       "    <tr>\n",
       "      <th>1</th>\n",
       "      <td>Neutral</td>\n",
       "      <td>13.0</td>\n",
       "    </tr>\n",
       "    <tr>\n",
       "      <th>2</th>\n",
       "      <td>Positive</td>\n",
       "      <td>1694.0</td>\n",
       "    </tr>\n",
       "  </tbody>\n",
       "</table>\n",
       "</div>"
      ],
      "text/plain": [
       "     scored      id\n",
       "0  Negative   793.0\n",
       "1   Neutral    13.0\n",
       "2  Positive  1694.0"
      ]
     },
     "execution_count": 54,
     "metadata": {},
     "output_type": "execute_result"
    }
   ],
   "source": [
    "sent_count = df.groupby('scored')['id'].count().reset_index()\n",
    "sent_count"
   ]
  },
  {
   "cell_type": "code",
   "execution_count": 55,
   "id": "2e5e78aa-19eb-43a9-b652-d52343b077a1",
   "metadata": {},
   "outputs": [
    {
     "data": {
      "text/plain": [
       "Text(0.5, 1.0, 'Sentiment Analysis ')"
      ]
     },
     "execution_count": 55,
     "metadata": {},
     "output_type": "execute_result"
    },
    {
     "data": {
      "image/png": "[encoded data removed]",
      "text/plain": [
       "<Figure size 640x480 with 1 Axes>"
      ]
     },
     "metadata": {},
     "output_type": "display_data"
    }
   ],
   "source": [
    "color4 = sns.color_palette('dark')\n",
    "plt.pie(data = sent_count, x = 'id', labels = 'scored', startangle=90, autopct = \"%1.1f%%\", \n",
    "        pctdistance=1.35, colors = color4)\n",
    "plt.title(\"Sentiment Analysis \") "
   ]
  },
  {
   "cell_type": "markdown",
   "id": "d3eb35be-090f-48cc-8592-db935ba0ce7f",
   "metadata": {
    "jp-MarkdownHeadingCollapsed": true,
    "tags": []
   },
   "source": [
    "## 9. Seat type Sentiment analysis"
   ]
  },
  {
   "cell_type": "code",
   "execution_count": 104,
   "id": "e66e0cd7-5459-4761-b2e6-c61c378eac13",
   "metadata": {},
   "outputs": [
    {
     "data": {
      "text/plain": [
       "<Axes: xlabel='seat_type', ylabel='count'>"
      ]
     },
     "execution_count": 104,
     "metadata": {},
     "output_type": "execute_result"
    },
    {
     "data": {
      "image/png": "[encoded data removed]",
      "text/plain": [
       "<Figure size 1200x600 with 1 Axes>"
      ]
     },
     "metadata": {},
     "output_type": "display_data"
    }
   ],
   "source": [
    "sns.set_style(\"white\")\n",
    "plt.figure(figsize=(12,6))\n",
    "sns.countplot(x = df['seat_type'], hue = df['scored'], palette = 'rocket_r')"
   ]
  },
  {
   "cell_type": "markdown",
   "id": "f1817ba9-f773-46b7-838d-237a99e71d46",
   "metadata": {
    "jp-MarkdownHeadingCollapsed": true,
    "tags": []
   },
   "source": [
    "## 10. Traveller type Sentiment analysis"
   ]
  },
  {
   "cell_type": "code",
   "execution_count": 113,
   "id": "9126b435-b050-4edc-8f55-fd61661b3024",
   "metadata": {},
   "outputs": [
    {
     "data": {
      "text/plain": [
       "<Axes: xlabel='type_of_traveller', ylabel='count'>"
      ]
     },
     "execution_count": 113,
     "metadata": {},
     "output_type": "execute_result"
    },
    {
     "data": {
      "image/png": "[encoded data removed]",
      "text/plain": [
       "<Figure size 1200x600 with 1 Axes>"
      ]
     },
     "metadata": {},
     "output_type": "display_data"
    }
   ],
   "source": [
    "color5 = sns.color_palette(\"crest\")\n",
    "plt.figure(figsize=(12,6))\n",
    "sns.countplot(x = df['type_of_traveller'], hue = df['scored'], palette = color5)"
   ]
  }
 ],
 "metadata": {
  "kernelspec": {
   "display_name": "Python 3 (ipykernel)",
   "language": "python",
   "name": "python3"
  },
  "language_info": {
   "codemirror_mode": {
    "name": "ipython",
    "version": 3
   },
   "file_extension": ".py",
   "mimetype": "text/x-python",
   "name": "python",
   "nbconvert_exporter": "python",
   "pygments_lexer": "ipython3",
   "version": "3.10.9"
  },
  "widgets": {
   "application/vnd.jupyter.widget-state+json": {
    "state": {},
    "version_major": 2,
    "version_minor": 0
   }
  }
 },
 "nbformat": 4,
 "nbformat_minor": 5
}
